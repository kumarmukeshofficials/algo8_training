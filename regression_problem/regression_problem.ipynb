{
 "cells": [
  {
   "cell_type": "code",
   "execution_count": 44,
   "metadata": {},
   "outputs": [],
   "source": [
    "import numpy as np\n",
    "import pandas as pd\n",
    "import matplotlib.pyplot as plt\n",
    "import seaborn as sns"
   ]
  },
  {
   "cell_type": "code",
   "execution_count": 45,
   "metadata": {},
   "outputs": [],
   "source": [
    "X=np.array([7420,8960,9960,7500,7420,7500,8580,16200,8100,5750,13200,6000,6550,3500,\n",
    "7800,6000,6600,8500,4600,6420,4320,7155,8050,4560,8800,6540,6000,8875,7950,5500,7475,\n",
    "7000,4880,5960,6840,7000,7482,9000,6000,6000,6550,6360,6480,6000,6000,6000,6000,6600,\n",
    "4300,7440,7440,6325,6000,5150,6000,6000,11440,9000,7680,6000,6000,8880,6240\n",
    ",6360,11175,8880,13200,7700,6000,12090,4000,6000,5020,6600,4040,4260,6420,6500,5700])\n"
   ]
  },
  {
   "cell_type": "code",
   "execution_count": 46,
   "metadata": {},
   "outputs": [
    {
     "data": {
      "text/plain": [
       "array([ 7420,  8960,  9960,  7500,  7420,  7500,  8580, 16200,  8100,\n",
       "        5750, 13200,  6000,  6550,  3500,  7800,  6000,  6600,  8500,\n",
       "        4600,  6420,  4320,  7155,  8050,  4560,  8800,  6540,  6000,\n",
       "        8875,  7950,  5500,  7475,  7000,  4880,  5960,  6840,  7000,\n",
       "        7482,  9000,  6000,  6000,  6550,  6360,  6480,  6000,  6000,\n",
       "        6000,  6000,  6600,  4300,  7440,  7440,  6325,  6000,  5150,\n",
       "        6000,  6000, 11440,  9000,  7680,  6000,  6000,  8880,  6240,\n",
       "        6360, 11175,  8880, 13200,  7700,  6000, 12090,  4000,  6000,\n",
       "        5020,  6600,  4040,  4260,  6420,  6500,  5700])"
      ]
     },
     "execution_count": 46,
     "metadata": {},
     "output_type": "execute_result"
    }
   ],
   "source": [
    "X"
   ]
  },
  {
   "cell_type": "code",
   "execution_count": 47,
   "metadata": {},
   "outputs": [],
   "source": [
    "X=X.reshape((-1,1))"
   ]
  },
  {
   "cell_type": "code",
   "execution_count": 48,
   "metadata": {},
   "outputs": [],
   "source": [
    "y=np.array([13300000,12250000,12250000,12215000,11410000,10850000,10150000,10150000,9870000,\n",
    "9800000,9800000,9681000,9310000,9240000,9240000,9100000,9100000,8960000,\n",
    "8890000,8855000,8750000,8680000,8645000,8645000,8575000,8540000,\n",
    "8463000,8400000,8400000,8400000,8400000,8400000,8295000,8190000,\n",
    "8120000,8080940,8043000,7980000,7962500,7910000,\n",
    "7875000,7840000,7700000,7700000,7560000,7560000,7525000,7490000,\n",
    "7455000,7420000,7420000,7420000,7350000,7350000,7350000,7350000,\n",
    "7343000,7245000,7210000,7210000,7140000,7070000,7070000,7035000,\n",
    "7000000,6930000,6930000,6895000,6860000,6790000,6790000,6755000,\n",
    "6720000,6685000,6650000,6650000,6650000,6650000,6650000])"
   ]
  },
  {
   "cell_type": "code",
   "execution_count": 49,
   "metadata": {},
   "outputs": [
    {
     "name": "stdout",
     "output_type": "stream",
     "text": [
      "[[13300000]\n",
      " [12250000]\n",
      " [12250000]\n",
      " [12215000]\n",
      " [11410000]\n",
      " [10850000]\n",
      " [10150000]\n",
      " [10150000]\n",
      " [ 9870000]\n",
      " [ 9800000]\n",
      " [ 9800000]\n",
      " [ 9681000]\n",
      " [ 9310000]\n",
      " [ 9240000]\n",
      " [ 9240000]\n",
      " [ 9100000]\n",
      " [ 9100000]\n",
      " [ 8960000]\n",
      " [ 8890000]\n",
      " [ 8855000]\n",
      " [ 8750000]\n",
      " [ 8680000]\n",
      " [ 8645000]\n",
      " [ 8645000]\n",
      " [ 8575000]\n",
      " [ 8540000]\n",
      " [ 8463000]\n",
      " [ 8400000]\n",
      " [ 8400000]\n",
      " [ 8400000]\n",
      " [ 8400000]\n",
      " [ 8400000]\n",
      " [ 8295000]\n",
      " [ 8190000]\n",
      " [ 8120000]\n",
      " [ 8080940]\n",
      " [ 8043000]\n",
      " [ 7980000]\n",
      " [ 7962500]\n",
      " [ 7910000]\n",
      " [ 7875000]\n",
      " [ 7840000]\n",
      " [ 7700000]\n",
      " [ 7700000]\n",
      " [ 7560000]\n",
      " [ 7560000]\n",
      " [ 7525000]\n",
      " [ 7490000]\n",
      " [ 7455000]\n",
      " [ 7420000]\n",
      " [ 7420000]\n",
      " [ 7420000]\n",
      " [ 7350000]\n",
      " [ 7350000]\n",
      " [ 7350000]\n",
      " [ 7350000]\n",
      " [ 7343000]\n",
      " [ 7245000]\n",
      " [ 7210000]\n",
      " [ 7210000]\n",
      " [ 7140000]\n",
      " [ 7070000]\n",
      " [ 7070000]\n",
      " [ 7035000]\n",
      " [ 7000000]\n",
      " [ 6930000]\n",
      " [ 6930000]\n",
      " [ 6895000]\n",
      " [ 6860000]\n",
      " [ 6790000]\n",
      " [ 6790000]\n",
      " [ 6755000]\n",
      " [ 6720000]\n",
      " [ 6685000]\n",
      " [ 6650000]\n",
      " [ 6650000]\n",
      " [ 6650000]\n",
      " [ 6650000]\n",
      " [ 6650000]]\n"
     ]
    }
   ],
   "source": [
    "y=y.reshape((-1,1))\n",
    "print(y)"
   ]
  },
  {
   "cell_type": "code",
   "execution_count": 50,
   "metadata": {},
   "outputs": [],
   "source": [
    "\n",
    "# Splitting the dataset into the Training set and Test set\n",
    "from sklearn.model_selection import train_test_split\n",
    "X_train, X_test, y_train, y_test = train_test_split(X, y, test_size = 0.2, random_state = 0)"
   ]
  },
  {
   "cell_type": "code",
   "execution_count": 51,
   "metadata": {},
   "outputs": [],
   "source": [
    "# Feature Scaling\n",
    "from sklearn.preprocessing import StandardScaler\n",
    "sc = StandardScaler()\n",
    "X_train = sc.fit_transform(X_train)\n",
    "X_test = sc.transform(X_test)"
   ]
  },
  {
   "cell_type": "code",
   "execution_count": 52,
   "metadata": {},
   "outputs": [
    {
     "data": {
      "text/plain": [
       "LinearRegression()"
      ]
     },
     "execution_count": 52,
     "metadata": {},
     "output_type": "execute_result"
    }
   ],
   "source": [
    "\n",
    "# Fitting Multiple Linear Regression to the Training set\n",
    "# The library is same as it was for Simple Linear Regression\n",
    "from sklearn.linear_model import LinearRegression\n",
    "regressor = LinearRegression()\n",
    "regressor.fit(X_train, y_train)\n"
   ]
  },
  {
   "cell_type": "code",
   "execution_count": 53,
   "metadata": {},
   "outputs": [],
   "source": [
    "\n",
    "# Predicting the Test set results\n",
    "y_pred = regressor.predict(X_test)"
   ]
  },
  {
   "cell_type": "code",
   "execution_count": 54,
   "metadata": {},
   "outputs": [],
   "source": [
    "from sklearn.metrics import r2_score\n",
    "score=r2_score(y_test,y_pred)"
   ]
  },
  {
   "cell_type": "code",
   "execution_count": 55,
   "metadata": {},
   "outputs": [
    {
     "data": {
      "text/plain": [
       "-0.24154755683516127"
      ]
     },
     "execution_count": 55,
     "metadata": {},
     "output_type": "execute_result"
    }
   ],
   "source": [
    "score"
   ]
  },
  {
   "cell_type": "code",
   "execution_count": 56,
   "metadata": {},
   "outputs": [
    {
     "data": {
      "image/png": "[encoded data removed]",
      "text/plain": [
       "<Figure size 432x288 with 1 Axes>"
      ]
     },
     "metadata": {
      "needs_background": "light"
     },
     "output_type": "display_data"
    }
   ],
   "source": [
    "plt.scatter(X_train, y_train, color = \"red\")\n",
    "plt.plot(X_train, regressor.predict(X_train), color = \"green\")\n",
    "\n",
    "plt.xlabel(\"X\")\n",
    "plt.ylabel(\"Y\")\n",
    "plt.show()"
   ]
  },
  {
   "cell_type": "code",
   "execution_count": 57,
   "metadata": {},
   "outputs": [
    {
     "data": {
      "image/png": "[encoded data removed]",
      "text/plain": [
       "<Figure size 432x288 with 1 Axes>"
      ]
     },
     "metadata": {
      "needs_background": "light"
     },
     "output_type": "display_data"
    }
   ],
   "source": [
    "plt.scatter(X_test, y_test, color = \"red\")\n",
    "plt.plot(X_train, regressor.predict(X_train), color = \"green\")\n",
    "\n",
    "plt.xlabel(\"X\")\n",
    "plt.ylabel(\"Y\")\n",
    "plt.show()"
   ]
  },
  {
   "cell_type": "code",
   "execution_count": null,
   "metadata": {},
   "outputs": [],
   "source": []
  }
 ],
 "metadata": {
  "kernelspec": {
   "display_name": "Python 3",
   "language": "python",
   "name": "python3"
  },
  "language_info": {
   "codemirror_mode": {
    "name": "ipython",
    "version": 3
   },
   "file_extension": ".py",
   "mimetype": "text/x-python",
   "name": "python",
   "nbconvert_exporter": "python",
   "pygments_lexer": "ipython3",
   "version": "3.8.5"
  }
 },
 "nbformat": 4,
 "nbformat_minor": 4
}
