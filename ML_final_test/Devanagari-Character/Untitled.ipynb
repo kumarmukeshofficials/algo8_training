{
 "cells": [
  {
   "cell_type": "code",
   "execution_count": null,
   "metadata": {},
   "outputs": [],
   "source": [
    "from keras.models import load_model\n",
    "from PIL import Image\n",
    "import cv2\n",
    "import numpy as np\n",
    "import matplotlib.pyplot as plt\n",
    "\n",
    "model = load_model(\"./ocr_model\")\n",
    "\n",
    "def predict(path):\n",
    "    x1 = cv2.imread(path, cv2.IMREAD_GRAYSCALE)\n",
    "    (thresh, x2) = cv2.threshold(x1, 128, 255, cv2.THRESH_BINARY | cv2.THRESH_OTSU)\n",
    "    x3 = cv2.bitwise_not(x2)\n",
    "    kernel = np.ones((5,5),np.uint8)\n",
    "    x4 = cv2.morphologyEx(x3, cv2.MORPH_OPEN, kernel)\n",
    "    x5 = cv2.morphologyEx(x4, cv2.MORPH_CLOSE, kernel)\n",
    "\n",
    "    x6 = Image.fromarray(x5)\n",
    "    x7 = Image.new('L',(256,256), 0)\n",
    "    x6w,x6h = x6.size\n",
    "    x7w,x7h = x7.size\n",
    "    offset = ((x7w - x6w)/2, (x7h - x6h)/2)\n",
    "    x7.paste(x6,offset)\n",
    "    x8 = np.asarray(x7)\n",
    "\n",
    "    x9 = cv2.resize(x8, (64,64), interpolation = cv2.INTER_NEAREST)\n",
    "    plt.imshow(x9)\n",
    "    plt.show()\n",
    "\n",
    "    z = model.predict(x9.reshape((1,64,64,1)))[0]\n",
    "    #print(z, z.shape)\n",
    "    z1 = np.where(z>0.5)[0]+2304\n",
    "    return z1"
   ]
  },
  {
   "cell_type": "code",
   "execution_count": null,
   "metadata": {},
   "outputs": [],
   "source": [
    "predict('/home/mukesh/Documents/algo8/training/assignments ML/ML_final_test/Devanagari-Character/1344.png')"
   ]
  },
  {
   "cell_type": "code",
   "execution_count": null,
   "metadata": {},
   "outputs": [],
   "source": []
  }
 ],
 "metadata": {
  "kernelspec": {
   "display_name": "Python 3",
   "language": "python",
   "name": "python3"
  },
  "language_info": {
   "codemirror_mode": {
    "name": "ipython",
    "version": 3
   },
   "file_extension": ".py",
   "mimetype": "text/x-python",
   "name": "python",
   "nbconvert_exporter": "python",
   "pygments_lexer": "ipython3",
   "version": "3.6.9"
  }
 },
 "nbformat": 4,
 "nbformat_minor": 4
}
